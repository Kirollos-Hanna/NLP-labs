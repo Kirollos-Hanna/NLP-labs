{
 "cells": [
  {
   "cell_type": "markdown",
   "id": "a0658591-3f91-49fc-b796-a834ef53b5d4",
   "metadata": {},
   "source": [
    "### Use the Edit distance between two items for quantifying their similarity. "
   ]
  },
  {
   "cell_type": "code",
   "execution_count": 1,
   "id": "b841c724-6aac-4e3e-a83d-db3829a6d446",
   "metadata": {},
   "outputs": [
    {
     "data": {
      "text/plain": [
       "'Military School'"
      ]
     },
     "execution_count": 1,
     "metadata": {},
     "output_type": "execute_result"
    }
   ],
   "source": [
    "import nltk\n",
    "import math\n",
    "\n",
    "user_item_matrix = [\n",
    "    [3, 7, 4, 9, 9, 7],\n",
    "    [7, 0, 5, 3, 8, 8],\n",
    "    [7, 5, 5, 0, 8, 4],\n",
    "    [5, 6, 8, 5, 9, 8],\n",
    "    [5, 8, 8, 8, 10, 9],\n",
    "    [7, 7, 0, 4, 7, 8]]\n",
    "\n",
    "items = [\"The school art\", \"Schooling Kids\", \"Closing Schools\",\n",
    "         \"Military School\", \"This is a military school\", \"School Book\"]\n",
    "\n",
    "source = items[3]\n",
    "source"
   ]
  },
  {
   "cell_type": "code",
   "execution_count": 12,
   "id": "efec07f9-b653-4df8-bb64-10c0e04016be",
   "metadata": {},
   "outputs": [
    {
     "name": "stdout",
     "output_type": "stream",
     "text": [
      "Edit distance between Military School and The school art is 13\n",
      "Edit distance between Military School and Schooling Kids is 15\n",
      "Edit distance between Military School and Closing Schools is 8\n",
      "Edit distance between Military School and This is a military school is 12\n",
      "Edit distance between Military School and School Book is 12\n",
      "Best edit distance is 8 and best item index is 2\n",
      "Item is: Closing Schools\n"
     ]
    }
   ],
   "source": [
    "# Find the smallest edit distance between all items and item 4(Ind 3)\n",
    "best_edit_dist = math.inf\n",
    "edit_dist = -1\n",
    "item_ind = -1\n",
    "for ind, item in enumerate(items):\n",
    "    if ind == 3:\n",
    "        continue\n",
    "    edit_dist = nltk.edit_distance(source, item)\n",
    "    print(\"Edit distance between %s and %s is %s\" % (source, item, edit_dist))\n",
    "    if edit_dist < best_edit_dist:\n",
    "        best_edit_dist = edit_dist\n",
    "        item_ind = ind\n",
    "print(\"Best edit distance is %s and best item index is %s\" %(best_edit_dist, item_ind))\n",
    "print(\"Item is:\",items[item_ind])"
   ]
  },
  {
   "cell_type": "code",
   "execution_count": 13,
   "id": "33cb5605-7a61-4634-bc5d-ed8d5d4a77c4",
   "metadata": {},
   "outputs": [
    {
     "name": "stdout",
     "output_type": "stream",
     "text": [
      "User 3 likes item 4\n"
     ]
    }
   ],
   "source": [
    "# Predict if user 3 likes item 4 depending on the item with the smallest edit distance you've found\n",
    "if user_item_matrix[2][item_ind] >= 5:\n",
    "    print(\"User 3 likes item 4\")\n",
    "else:\n",
    "    print(\"User 3 doesn't like item 4\")"
   ]
  }
 ],
 "metadata": {
  "kernelspec": {
   "display_name": "Python 3",
   "language": "python",
   "name": "python3"
  },
  "language_info": {
   "codemirror_mode": {
    "name": "ipython",
    "version": 3
   },
   "file_extension": ".py",
   "mimetype": "text/x-python",
   "name": "python",
   "nbconvert_exporter": "python",
   "pygments_lexer": "ipython3",
   "version": "3.10.6"
  }
 },
 "nbformat": 4,
 "nbformat_minor": 5
}
