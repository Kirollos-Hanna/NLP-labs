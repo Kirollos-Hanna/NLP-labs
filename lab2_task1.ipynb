{
 "cells": [
  {
   "cell_type": "markdown",
   "id": "8f437823-53ec-4d88-b6ff-d6dc99657114",
   "metadata": {},
   "source": [
    "### We would like to find out whether User 3 (third row, numbered 2) like Item 4 (fourth column, numbered 3). \n",
    "1) Use cosine similarity based approach to answer the question \n"
   ]
  },
  {
   "cell_type": "code",
   "execution_count": 9,
   "id": "1582fe28-2513-4114-997e-4f323a48bbbb",
   "metadata": {},
   "outputs": [],
   "source": [
    "import math\n",
    "\n",
    "user_item_matrix = [\n",
    "    [3, 7, 4, 9, 9, 7],\n",
    "    [7, 0, 5, 3, 8, 8],\n",
    "    [7, 5, 5, 0, 8, 4],\n",
    "    [5, 6, 8, 5, 9, 8],\n",
    "    [5, 8, 8, 8, 10, 9],\n",
    "    [7, 7, 0, 4, 7, 8]]\n",
    "\n",
    "def cosineSim(user1,user2):\n",
    "    nom = 0\n",
    "    dinom = 1\n",
    "    for ind, (val1,val2) in enumerate(zip(user1,user2)):\n",
    "        nom += (val1*val2)\n",
    "    \n",
    "    user1_sum = 0\n",
    "    user2_sum = 0\n",
    "    for val in user1:\n",
    "        user1_sum += (val*val)\n",
    "    for val in user2:\n",
    "        user2_sum += (val*val)\n",
    "    dinom = math.sqrt(user1_sum)*math.sqrt(user2_sum)\n",
    "    return nom*1.0/dinom*1.0"
   ]
  },
  {
   "cell_type": "code",
   "execution_count": 10,
   "id": "016ca08f-a808-40a1-ba29-86df11bf2e67",
   "metadata": {},
   "outputs": [
    {
     "name": "stdout",
     "output_type": "stream",
     "text": [
      "3 [5, 6, 8, 5, 9, 8]\n"
     ]
    }
   ],
   "source": [
    "# find best cosine similarity between all users compared to user 2\n",
    "max_sim = -1\n",
    "cur_sim = 0\n",
    "best_user_ind = -1\n",
    "for ind, user in enumerate(user_item_matrix):\n",
    "    if ind == 2: \n",
    "        continue\n",
    "    cur_sim = cosineSim(user_item_matrix[2], user)\n",
    "    if(cur_sim > max_sim):\n",
    "        max_sim = cur_sim\n",
    "        best_user_ind = ind\n",
    "print(best_user_ind, user_item_matrix[best_user_ind])"
   ]
  },
  {
   "cell_type": "code",
   "execution_count": 7,
   "id": "dae62336-ec36-4bcd-998e-efaa4709c361",
   "metadata": {},
   "outputs": [
    {
     "data": {
      "text/plain": [
       "[7, 5, 5, 5, 8, 4]"
      ]
     },
     "execution_count": 7,
     "metadata": {},
     "output_type": "execute_result"
    }
   ],
   "source": [
    "# replace all 0 values in user 2's item matrix with values from the closest user found from the cosine similarity\n",
    "for ind, (val1,val2) in enumerate(zip(user_item_matrix[2], user_item_matrix[best_user_ind])):\n",
    "    if(val1 == 0):\n",
    "        user_item_matrix[2][ind] = user_item_matrix[best_user_ind][ind]\n",
    "user_item_matrix[2]"
   ]
  },
  {
   "cell_type": "code",
   "execution_count": 6,
   "id": "68ade04f-27ea-4c65-ac26-c6eba34e3c4d",
   "metadata": {},
   "outputs": [
    {
     "name": "stdout",
     "output_type": "stream",
     "text": [
      "User 3 likes item 4\n"
     ]
    }
   ],
   "source": [
    "# check if the user likes item 4 or not \n",
    "if(user_item_matrix[2][3] >= 5):\n",
    "    print(\"User 3 likes item 4\")\n",
    "else:\n",
    "    print(\"User  doesn't like item 4\")"
   ]
  }
 ],
 "metadata": {
  "kernelspec": {
   "display_name": "Python 3",
   "language": "python",
   "name": "python3"
  },
  "language_info": {
   "codemirror_mode": {
    "name": "ipython",
    "version": 3
   },
   "file_extension": ".py",
   "mimetype": "text/x-python",
   "name": "python",
   "nbconvert_exporter": "python",
   "pygments_lexer": "ipython3",
   "version": "3.10.6"
  }
 },
 "nbformat": 4,
 "nbformat_minor": 5
}
